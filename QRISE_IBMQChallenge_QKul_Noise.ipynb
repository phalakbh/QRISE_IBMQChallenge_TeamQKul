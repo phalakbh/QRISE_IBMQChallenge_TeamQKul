{
 "cells": [
  {
   "cell_type": "code",
   "execution_count": null,
   "id": "82e05332-153b-4c5b-8396-85222327d739",
   "metadata": {
    "id": "82e05332-153b-4c5b-8396-85222327d739"
   },
   "outputs": [],
   "source": [
    "pip install qiskit-aer qiskit-ibm-runtime\n"
   ]
  },
  {
   "cell_type": "code",
   "execution_count": null,
   "id": "d45aa5d6-559d-4f48-8169-229efb882043",
   "metadata": {
    "id": "d45aa5d6-559d-4f48-8169-229efb882043"
   },
   "outputs": [],
   "source": [
    "# QML\n",
    "from qiskit import QuantumCircuit, QuantumRegister, ClassicalRegister\n",
    "\n",
    "# CML\n",
    "import tensorflow as tf\n",
    "from tensorflow import keras as K\n",
    "\n",
    "# Timer\n",
    "from timeit import default_timer as timer\n",
    "from datetime import timedelta\n",
    "\n",
    "# for data\n",
    "import pandas as pd\n",
    "from os import listdir\n",
    "import os\n",
    "from matplotlib import image\n",
    "from matplotlib import pyplot as plt\n",
    "import h5py\n",
    "#import cv2\n",
    "from sklearn.model_selection import train_test_split\n",
    "\n",
    "\n",
    "# for evaluation\n",
    "from sklearn.metrics import classification_report\n",
    "import itertools\n",
    "\n",
    "# calculus\n",
    "import numpy as np\n",
    "\n",
    "#Simulation\n",
    "\n",
    "from qiskit_aer import AerSimulator\n",
    "from qiskit import transpile\n",
    "\n",
    "#Parallel Processing\n",
    "import concurrent.futures\n",
    "#cv2\n",
    "import cv2\n",
    "\n",
    "from qiskit.visualization import plot_histogram\n",
    "\n",
    "#Math\n",
    "import math\n"
   ]
  },
  {
   "cell_type": "code",
   "execution_count": null,
   "id": "60be67de-f147-4836-8350-98d73e7f9a02",
   "metadata": {
    "id": "60be67de-f147-4836-8350-98d73e7f9a02"
   },
   "outputs": [],
   "source": [
    "import numpy as np\n",
    "from qiskit import QuantumCircuit\n",
    "from qiskit.quantum_info import Kraus, SuperOp\n",
    "from qiskit.visualization import plot_histogram\n",
    "from qiskit.transpiler.preset_passmanagers import generate_preset_pass_manager\n",
    "from qiskit_aer import AerSimulator\n",
    "\n",
    "# Import from Qiskit Aer noise module\n",
    "from qiskit_aer.noise import (\n",
    "    NoiseModel,\n",
    "    QuantumError,\n",
    "    ReadoutError,\n",
    "    depolarizing_error,\n",
    "    pauli_error,\n",
    "    thermal_relaxation_error,\n",
    ")"
   ]
  },
  {
   "cell_type": "code",
   "execution_count": null,
   "id": "66006744-60e9-41b4-8ada-ba888f20fcd9",
   "metadata": {
    "id": "66006744-60e9-41b4-8ada-ba888f20fcd9",
    "scrolled": true
   },
   "outputs": [],
   "source": [
    "from qiskit_aer import AerSimulator\n",
    "from qiskit import transpile\n",
    "from qiskit.visualization import plot_histogram\n",
    "from qiskit_aer import AerSimulator\n",
    "import qiskit_aer.noise as noise\n"
   ]
  },
  {
   "cell_type": "code",
   "execution_count": null,
   "id": "083a8cd0-5e96-4b3a-897f-5cec723cd5c4",
   "metadata": {
    "id": "083a8cd0-5e96-4b3a-897f-5cec723cd5c4",
    "outputId": "edec5791-7062-4451-e4c2-408eafee12a4"
   },
   "outputs": [
    {
     "name": "stdout",
     "output_type": "stream",
     "text": [
      "NoiseModel:\n",
      "  Basis gates: ['cx', 'id', 'rz', 'sx', 'u1', 'u2', 'u3']\n",
      "  Instructions with noise: ['u3', 'u1', 'u2']\n",
      "  All-qubits errors: ['u1', 'u2', 'u3']\n"
     ]
    }
   ],
   "source": [
    "from qiskit_ibm_runtime.fake_provider import FakeManilaV2\n",
    "\n",
    "from qiskit_ibm_runtime import QiskitRuntimeService\n",
    "\n",
    "service = QiskitRuntimeService(token='YOUR TOKEN',channel='ibm_quantum')\n",
    "# service = QiskitRuntimeService()\n",
    "backend = service.backend(\"ibm_brisbane\")\n",
    "noise_model = NoiseModel.from_backend(backend)\n",
    "# Error probabilities\n",
    "prob_1 = 0.09 # 1-qubit gate\n",
    "prob_2 = 0.09  # 2-qubit gate\n",
    "\n",
    "# Depolarizing quantum errors\n",
    "error_1 = noise.depolarizing_error(prob_1, 1)\n",
    "error_2 = noise.depolarizing_error(prob_2, 2)\n",
    "\n",
    "# Add errors to noise model\n",
    "noise_model = noise.NoiseModel()\n",
    "noise_model.add_all_qubit_quantum_error(error_1, ['u1', 'u2', 'u3'])\n",
    "# noise_model.add_all_qubit_quantum_error(error_2, ['cx'])\n",
    "\n",
    "# Get basis gates from noise model\n",
    "basis_gates = noise_model.basis_gates\n",
    "print(noise_model)"
   ]
  },
  {
   "cell_type": "code",
   "execution_count": null,
   "id": "335a444c-07e1-4a05-ac62-e4a9098154ea",
   "metadata": {
    "id": "335a444c-07e1-4a05-ac62-e4a9098154ea"
   },
   "outputs": [],
   "source": [
    "data_train = []\n",
    "type_of_disease =['Benign_Noise']\n",
    "data_directory = r'C:\\Users\\LENOVO\\Desktop\\The IQ-OTHNCCD lung cancer dataset'\n",
    "train_directory = os.path.join(data_directory)\n",
    "for id, sp in enumerate(type_of_disease):\n",
    "    for file in os.listdir(os.path.join(train_directory, sp)):\n",
    "        data_train.append(['{}/{}/{}'.format(data_directory,sp, file), id, sp])\n",
    "\n",
    "train = pd.DataFrame(data_train, columns=['Image', 'Id of Disease','Type of Disease'])"
   ]
  },
  {
   "cell_type": "code",
   "execution_count": null,
   "id": "aae2802d-9689-45d6-ab36-d5f6609b8615",
   "metadata": {
    "id": "aae2802d-9689-45d6-ab36-d5f6609b8615"
   },
   "outputs": [],
   "source": [
    "phi = [1, 1, 1, 1]\n",
    "n = 4\n",
    "def CONVCircuit(phi):\n",
    "    qc=QuantumCircuit(4,4)\n",
    "    # parameter\n",
    "    theta = np.pi / 2\n",
    "    # for i in range (4):\n",
    "    #   qc.rx(phi[i] * np.pi,i)\n",
    "    qc.rx(phi[0] * np.pi, 0)\n",
    "    qc.rx(phi[1] * np.pi, 1)\n",
    "    qc.rx(phi[2] * np.pi, 2)\n",
    "    qc.rx(phi[3] * np.pi, 3)\n",
    "    with qc.for_loop(range(2)) as _:\n",
    "        qc.crz(theta, 1, 0)\n",
    "        qc.crz(theta, 3, 2)\n",
    "\n",
    "    # qc.crz(theta, 1, 0)\n",
    "    # qc.crz(theta, 3, 2)\n",
    "    qc.crx(theta, 1, 0)\n",
    "    qc.crx(theta, 3, 2)\n",
    "    qc.crz(theta, 2, 0)\n",
    "    qc.crx(theta, 2, 0)\n",
    "    # with qc.for_loop(range(2)) as _:\n",
    "    #     qc.crz(theta, 2, 0)\n",
    "    #     qc.crx(theta, 2, 0)\n",
    "\n",
    "    qc.measure([0],[0])\n",
    "    backend = AerSimulator(noise_model=noise_model,\n",
    "                           coupling_map=coupling_map,\n",
    "                           basis_gates=basis_gates)\n",
    "    transpiled_circuit = transpile(qc, backend)\n",
    "    result = backend.run(transpiled_circuit).result()\n",
    "    counts = result.get_counts(qc)\n",
    "    expectation_value = (counts.get('0000', 0) - counts.get('0001', 0)) / 1024\n",
    "\n",
    "\n",
    "\n",
    "    # return qc\n",
    "    return expectation_value"
   ]
  },
  {
   "cell_type": "code",
   "execution_count": null,
   "id": "ac7259d2-da32-4eae-a631-c863a61c4c3f",
   "metadata": {
    "id": "ac7259d2-da32-4eae-a631-c863a61c4c3f",
    "outputId": "49b8031d-748b-4d58-ecab-1126b2ddac46"
   },
   "outputs": [
    {
     "name": "stdout",
     "output_type": "stream",
     "text": [
      "NoiseModel:\n",
      "  Basis gates: ['cx', 'id', 'rz', 'sx', 'u1', 'u2', 'u3']\n",
      "  Instructions with noise: ['u3', 'u1', 'u2']\n",
      "  All-qubits errors: ['u1', 'u2', 'u3']\n"
     ]
    }
   ],
   "source": [
    "# Create an empty noise model\n",
    "noise_model = NoiseModel()\n",
    "\n",
    "# Add depolarizing error to all single qubit u1, u2, u3 gates\n",
    "error = depolarizing_error(0.05, 1)\n",
    "noise_model.add_all_qubit_quantum_error(error, ['u1', 'u2', 'u3'])\n",
    "\n",
    "# Print noise model info\n",
    "print(noise_model)"
   ]
  },
  {
   "cell_type": "code",
   "execution_count": null,
   "id": "38c9a467-b2d5-4cd4-8650-635825988c92",
   "metadata": {
    "id": "38c9a467-b2d5-4cd4-8650-635825988c92"
   },
   "outputs": [],
   "source": [
    "def QCONV1(X, image_number, image_total, step=2):\n",
    "    H, W = X.shape\n",
    "    step2 = 2\n",
    "    out = np.zeros(((H//step), (W//step)))\n",
    "    for i in range(0, W, step):\n",
    "        print(\"processing image \"+str(image_number)+\"/ \"+str(image_total)+\": \"+str(i)+\"px   \", end=\"\\r\")\n",
    "        for j in range(0, H, step):\n",
    "            # get 2x2 pixels and make them 1D array\n",
    "            phi = X[i:i+2, j:j+2].flatten()\n",
    "            if len(phi) == 0:\n",
    "              continue  # Skip this iteration if phi is empty\n",
    "\n",
    "            if len(phi) < 3:\n",
    "            # print(f\"Skipping processing for {file} due to insufficient phi size.\")\n",
    "              continue  # Skip this iteration if phi does not meet size requirements\n",
    "            measurement = CONVCircuit(phi)\n",
    "            out[i//step, j//step] = measurement\n",
    "\n",
    "    return out"
   ]
  },
  {
   "cell_type": "code",
   "execution_count": null,
   "id": "d75a89f3-d98d-441c-afe2-60b04e5dd888",
   "metadata": {
    "id": "d75a89f3-d98d-441c-afe2-60b04e5dd888",
    "outputId": "7857f823-430e-4a3b-e0f6-a1c74b0ae9cb"
   },
   "outputs": [
    {
     "name": "stdout",
     "output_type": "stream",
     "text": [
      "task _ completed\n",
      "Processing Bengin_Noise...\n",
      "Processing completed in: 0:03:151).jpg/ 1: 126px   \n"
     ]
    }
   ],
   "source": [
    "processFolder = r'C:\\Users\\LENOVO\\Desktop\\The IQ-OTHNCCD lung cancer dataset\\Noise_11'\n",
    "# Parameters for processing\n",
    "scale_percent = 25  # percent of original size for resizing\n",
    "step = 2  # Step for the QCONV1 function\n",
    "\n",
    "# Ensure the processed directory exists\n",
    "if not os.path.exists(processFolder):\n",
    "    os.makedirs(processFolder)\n",
    "print('task _ completed')\n",
    "start = timer()\n",
    "\n",
    "for id, sp in enumerate(type_of_disease):\n",
    "    print(f\"Processing {sp}...\")\n",
    "    for file in os.listdir(os.path.join(train_directory, sp)):\n",
    "        filepath = os.path.join(train_directory, sp, file)\n",
    "        processed_filepath = os.path.join(processFolder, sp, file.split('.')[0] + '.npz')\n",
    "\n",
    "        # Check if already processed\n",
    "        if os.path.exists(processed_filepath):\n",
    "            continue\n",
    "\n",
    "        # Read image\n",
    "        img = cv2.imread(filepath, cv2.IMREAD_GRAYSCALE)\n",
    "        if img is None:\n",
    "            continue  # Skip if the file is not an image\n",
    "\n",
    "        # Resize image\n",
    "        width = int(img.shape[1] * scale_percent / 100)\n",
    "        height = int(img.shape[0] * scale_percent / 100)\n",
    "        dim = (width, height)\n",
    "        resized = cv2.resize(img, dim, interpolation=cv2.INTER_AREA)\n",
    "\n",
    "        # Normalize\n",
    "        NorImages = resized / 255.0\n",
    "\n",
    "        # Apply Quantum Convolution\n",
    "        processed = QCONV1(NorImages, file, len(os.listdir(os.path.join(train_directory, sp))), step)\n",
    "\n",
    "\n",
    "        # Ensure the disease type subfolder exists in the processed folder\n",
    "        processed_subfolder = os.path.join(processFolder, sp)\n",
    "        if not os.path.exists(processed_subfolder):\n",
    "            os.makedirs(processed_subfolder)\n",
    "\n",
    "        # Save processed image and label\n",
    "        np.savez_compressed(processed_filepath, image=processed, label=id)\n",
    "\n",
    "end = timer()\n",
    "time = (end - start)\n",
    "print(\"Processing completed in:\", str(timedelta(seconds=round(time))))"
   ]
  },
  {
   "cell_type": "code",
   "execution_count": null,
   "id": "f282fd49-efa6-4539-b72b-06e3cc979012",
   "metadata": {
    "id": "f282fd49-efa6-4539-b72b-06e3cc979012"
   },
   "outputs": [],
   "source": [
    "for id, sp in enumerate(type_of_disease):\n",
    "    for file in os.listdir(os.path.join(train_directory, sp)):\n",
    "        filepath = os.path.join(train_directory, sp, file)\n",
    "        img = cv2.imread(filepath, cv2.IMREAD_GRAYSCALE)\n",
    "\n",
    "        # Check if the image is empty or could not be read\n",
    "        if img is None or img.size == 0:\n",
    "            print(f\"Empty or unreadable image: {file} in {sp}\")\n",
    "            continue\n",
    "\n",
    "        # Assuming resizing logic is here\n",
    "        # resized = ...\n",
    "\n",
    "        # Check after resizing and normalizing\n",
    "        if resized.size == 0 or np.any(resized.shape == 0):\n",
    "            print(f\"Image becomes empty after resizing: {file} in {sp}\")\n",
    "            continue"
   ]
  },
  {
   "cell_type": "code",
   "execution_count": null,
   "id": "d5444f3d-4670-499f-85da-1c122e633e0a",
   "metadata": {
    "id": "d5444f3d-4670-499f-85da-1c122e633e0a",
    "outputId": "3b07f098-1987-4e71-f3c9-d519fd9b7b88"
   },
   "outputs": [
    {
     "data": {
      "image/png": "[encoded data removed]",
      "text/plain": [
       "<Figure size 640x480 with 1 Axes>"
      ]
     },
     "metadata": {},
     "output_type": "display_data"
    }
   ],
   "source": [
    "data_directory =  r'C:\\Users\\LENOVO\\Desktop\\The IQ-OTHNCCD lung cancer dataset\\Noise_11\\Bengin_Noise'\n",
    "filename = 'Benign case (101).npz'  # Example filename, adjust as necessary\n",
    "\n",
    "file_path = os.path.join(data_directory, filename)\n",
    "\n",
    "# Check if the file exists\n",
    "if os.path.exists(file_path):\n",
    "    data = np.load(file_path)\n",
    "    image = data['image.npy']  # Adjusted key to match your description\n",
    "    label = data['label.npy']  # Adjusted key to match your description\n",
    "\n",
    "    # Display the image\n",
    "    plt.imshow(image, cmap='gray')\n",
    "    plt.title(f'Label: {label}')\n",
    "    plt.show()\n",
    "else:\n",
    "    print(f'File does not exist: {file_path}')"
   ]
  }
 ],
 "metadata": {
  "colab": {
   "provenance": []
  },
  "kernelspec": {
   "display_name": "Python 3 (ipykernel)",
   "language": "python",
   "name": "python3"
  },
  "language_info": {
   "codemirror_mode": {
    "name": "ipython",
    "version": 3
   },
   "file_extension": ".py",
   "mimetype": "text/x-python",
   "name": "python",
   "nbconvert_exporter": "python",
   "pygments_lexer": "ipython3",
   "version": "3.9.6"
  }
 },
 "nbformat": 4,
 "nbformat_minor": 5
}
